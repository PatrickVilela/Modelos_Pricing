{
  "nbformat": 4,
  "nbformat_minor": 0,
  "metadata": {
    "colab": {
      "provenance": [],
      "authorship_tag": "ABX9TyMjYmNhurWOazrp9/1bPPwJ",
      "include_colab_link": true
    },
    "kernelspec": {
      "name": "python3",
      "display_name": "Python 3"
    },
    "language_info": {
      "name": "python"
    }
  },
  "cells": [
    {
      "cell_type": "markdown",
      "metadata": {
        "id": "view-in-github",
        "colab_type": "text"
      },
      "source": [
        "<a href=\"https://colab.research.google.com/github/PatrickVilela/Modelos_Pricing/blob/main/Modelo_ANN.ipynb\" target=\"_parent\"><img src=\"https://colab.research.google.com/assets/colab-badge.svg\" alt=\"Open In Colab\"/></a>"
      ]
    },
    {
      "cell_type": "code",
      "execution_count": 1,
      "metadata": {
        "colab": {
          "base_uri": "https://localhost:8080/"
        },
        "id": "zM7ZOkJxhtZy",
        "outputId": "e523ba62-5c4f-4625-ae6a-22a4c29a1295"
      },
      "outputs": [
        {
          "output_type": "stream",
          "name": "stdout",
          "text": [
            "1/1 [==============================] - 0s 310ms/step\n",
            "1/1 [==============================] - 0s 45ms/step\n",
            "Erro médio quadrático (MSE) no conjunto de treinamento: 661799.090617923\n",
            "Erro médio quadrático (MSE) no conjunto de teste: 630286.6212135105\n",
            "1/1 [==============================] - 0s 62ms/step\n",
            "Previsões de preços para novos dados:\n",
            "Produto 1: $4.77\n",
            "Produto 2: $5.67\n"
          ]
        }
      ],
      "source": [
        "import numpy as np\n",
        "import pandas as pd\n",
        "from sklearn.model_selection import train_test_split\n",
        "from sklearn.preprocessing import StandardScaler\n",
        "from tensorflow.keras.models import Sequential\n",
        "from tensorflow.keras.layers import Dense\n",
        "from sklearn.metrics import mean_squared_error\n",
        "\n",
        "# Criar o DataFrame com os dados\n",
        "data = {\n",
        "    'Produto': ['Laptop', 'Smartphone', 'Tablet', 'Fones de ouvido', 'Câmera fotográfica'],\n",
        "    'Preço': [1000, 800, 500, 100, 1200],\n",
        "    'Avaliação': [4.5, 4.2, 4.0, 4.7, 4.6],\n",
        "    'Vendas_Mensais': [5000, 7000, 3000, 10000, 2000],\n",
        "    'Concorrência': [7, 6, 5, 8, 7],\n",
        "    'Despesas_Marketing': [20000, 15000, 10000, 12000, 18000]\n",
        "}\n",
        "\n",
        "df = pd.DataFrame(data)\n",
        "\n",
        "# Dividir os dados em conjuntos de treinamento e teste\n",
        "X = df[['Avaliação', 'Vendas_Mensais', 'Concorrência', 'Despesas_Marketing']]\n",
        "y = df['Preço']\n",
        "X_train, X_test, y_train, y_test = train_test_split(X, y, test_size=0.2, random_state=42)\n",
        "\n",
        "# Padronizar os dados\n",
        "scaler = StandardScaler()\n",
        "X_train_scaled = scaler.fit_transform(X_train)\n",
        "X_test_scaled = scaler.transform(X_test)\n",
        "\n",
        "# Construir o modelo de rede neural\n",
        "model = Sequential([\n",
        "    Dense(64, activation='relu', input_shape=(X_train_scaled.shape[1],)),\n",
        "    Dense(32, activation='relu'),\n",
        "    Dense(1)\n",
        "])\n",
        "\n",
        "# Compilar o modelo\n",
        "model.compile(optimizer='adam', loss='mean_squared_error')\n",
        "\n",
        "# Treinar o modelo\n",
        "model.fit(X_train_scaled, y_train, epochs=100, batch_size=16, verbose=0)\n",
        "\n",
        "# Avaliar o modelo\n",
        "train_predictions = model.predict(X_train_scaled).reshape(-1)\n",
        "test_predictions = model.predict(X_test_scaled).reshape(-1)\n",
        "\n",
        "train_mse = mean_squared_error(y_train, train_predictions)\n",
        "test_mse = mean_squared_error(y_test, test_predictions)\n",
        "\n",
        "print(\"Erro médio quadrático (MSE) no conjunto de treinamento:\", train_mse)\n",
        "print(\"Erro médio quadrático (MSE) no conjunto de teste:\", test_mse)\n",
        "\n",
        "# Fazer algumas previsões\n",
        "novos_dados = pd.DataFrame({\n",
        "    'Avaliação': [4.8, 4.3],\n",
        "    'Vendas_Mensais': [6000, 4000],\n",
        "    'Concorrência': [6, 7],\n",
        "    'Despesas_Marketing': [17000, 14000]\n",
        "})\n",
        "\n",
        "novos_dados_scaled = scaler.transform(novos_dados)\n",
        "novas_previsoes = model.predict(novos_dados_scaled).reshape(-1)\n",
        "print(\"Previsões de preços para novos dados:\")\n",
        "for i, preco in enumerate(novas_previsoes):\n",
        "    print(f\"Produto {i+1}: ${preco:.2f}\")\n"
      ]
    },
    {
      "cell_type": "code",
      "source": [],
      "metadata": {
        "id": "xgo4Q7AthuJd"
      },
      "execution_count": null,
      "outputs": []
    }
  ]
}