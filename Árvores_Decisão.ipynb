{
  "nbformat": 4,
  "nbformat_minor": 0,
  "metadata": {
    "colab": {
      "provenance": [],
      "authorship_tag": "ABX9TyMDnWE0sGB9VxbQPrpIOFQe",
      "include_colab_link": true
    },
    "kernelspec": {
      "name": "python3",
      "display_name": "Python 3"
    },
    "language_info": {
      "name": "python"
    }
  },
  "cells": [
    {
      "cell_type": "markdown",
      "metadata": {
        "id": "view-in-github",
        "colab_type": "text"
      },
      "source": [
        "<a href=\"https://colab.research.google.com/github/PatrickVilela/Modelos_Pricing/blob/main/%C3%81rvores_Decis%C3%A3o.ipynb\" target=\"_parent\"><img src=\"https://colab.research.google.com/assets/colab-badge.svg\" alt=\"Open In Colab\"/></a>"
      ]
    },
    {
      "cell_type": "code",
      "execution_count": 1,
      "metadata": {
        "colab": {
          "base_uri": "https://localhost:8080/"
        },
        "id": "4CmCk-WlXPfG",
        "outputId": "fb715f0f-1d94-4490-b73d-9daff72be0cf"
      },
      "outputs": [
        {
          "output_type": "stream",
          "name": "stdout",
          "text": [
            "Erro médio quadrático (MSE) no conjunto de treinamento: 0.0\n",
            "Erro médio quadrático (MSE) no conjunto de teste: 90000.0\n",
            "Previsões de preços para novos dados:\n",
            "Produto 1: $1200.00\n",
            "Produto 2: $500.00\n"
          ]
        }
      ],
      "source": [
        "import numpy as np\n",
        "import pandas as pd\n",
        "from sklearn.model_selection import train_test_split\n",
        "from sklearn.tree import DecisionTreeRegressor\n",
        "from sklearn.metrics import mean_squared_error\n",
        "\n",
        "# Criar o DataFrame com os dados\n",
        "data = {\n",
        "    'Produto': ['Laptop', 'Smartphone', 'Tablet', 'Fones de ouvido', 'Câmera fotográfica'],\n",
        "    'Preço': [1000, 800, 500, 100, 1200],\n",
        "    'Avaliação': [4.5, 4.2, 4.0, 4.7, 4.6],\n",
        "    'Vendas_Mensais': [5000, 7000, 3000, 10000, 2000],\n",
        "    'Concorrência': [7, 6, 5, 8, 7],\n",
        "    'Despesas_Marketing': [20000, 15000, 10000, 12000, 18000]\n",
        "}\n",
        "\n",
        "df = pd.DataFrame(data)\n",
        "\n",
        "# Dividir os dados em conjuntos de treinamento e teste\n",
        "X = df[['Avaliação', 'Vendas_Mensais', 'Concorrência', 'Despesas_Marketing']]\n",
        "y = df['Preço']\n",
        "X_train, X_test, y_train, y_test = train_test_split(X, y, test_size=0.2, random_state=42)\n",
        "\n",
        "# Treinar o modelo de Árvores de Decisão\n",
        "tree_model = DecisionTreeRegressor(random_state=42)\n",
        "tree_model.fit(X_train, y_train)\n",
        "\n",
        "# Avaliar o modelo\n",
        "train_predictions = tree_model.predict(X_train)\n",
        "test_predictions = tree_model.predict(X_test)\n",
        "\n",
        "train_mse = mean_squared_error(y_train, train_predictions)\n",
        "test_mse = mean_squared_error(y_test, test_predictions)\n",
        "\n",
        "print(\"Erro médio quadrático (MSE) no conjunto de treinamento:\", train_mse)\n",
        "print(\"Erro médio quadrático (MSE) no conjunto de teste:\", test_mse)\n",
        "\n",
        "# Fazer algumas previsões\n",
        "novos_dados = pd.DataFrame({\n",
        "    'Avaliação': [4.8, 4.3],\n",
        "    'Vendas_Mensais': [6000, 4000],\n",
        "    'Concorrência': [6, 7],\n",
        "    'Despesas_Marketing': [17000, 14000]\n",
        "})\n",
        "\n",
        "novas_previsoes = tree_model.predict(novos_dados)\n",
        "print(\"Previsões de preços para novos dados:\")\n",
        "for i, preco in enumerate(novas_previsoes):\n",
        "    print(f\"Produto {i+1}: ${preco:.2f}\")\n"
      ]
    },
    {
      "cell_type": "code",
      "source": [],
      "metadata": {
        "id": "zgnNG4k5Xn4M"
      },
      "execution_count": null,
      "outputs": []
    }
  ]
}